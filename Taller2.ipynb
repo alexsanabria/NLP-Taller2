{
 "cells": [
  {
   "cell_type": "markdown",
   "metadata": {},
   "source": [
    "# TRABAJO LECTURA DE ARCHIVOS\n",
    "## Yofre Alexander Sanabria Arias\n",
    "## Grupo G-52"
   ]
  },
  {
   "cell_type": "code",
   "execution_count": 97,
   "metadata": {},
   "outputs": [],
   "source": [
    "import os\n",
    "from zipfile import ZipFile #Librería para descomprimir archivos\n",
    "\n",
    "import shutil\n",
    "\n",
    "import fitz #Libreria leer pdf's"
   ]
  },
  {
   "cell_type": "code",
   "execution_count": 98,
   "metadata": {},
   "outputs": [
    {
     "name": "stdout",
     "output_type": "stream",
     "text": [
      "\u001b[0m\u001b[01;34mpython_books\u001b[0m/  \u001b[01;31mpython_books.zip\u001b[0m  Taller2.ipynb  Tarea.txt\r\n"
     ]
    }
   ],
   "source": [
    "ls"
   ]
  },
  {
   "cell_type": "markdown",
   "metadata": {},
   "source": [
    "## 1. Descomprimir archivo"
   ]
  },
  {
   "cell_type": "code",
   "execution_count": 99,
   "metadata": {},
   "outputs": [],
   "source": [
    "with ZipFile('python_books.zip') as archivo:\n",
    "    archivo.extractall()\n",
    "    \n",
    "\n",
    "shutil.rmtree('__MACOSX')"
   ]
  },
  {
   "cell_type": "markdown",
   "metadata": {},
   "source": [
    "## 2. Leer Arhivos"
   ]
  },
  {
   "cell_type": "code",
   "execution_count": 100,
   "metadata": {},
   "outputs": [],
   "source": [
    "documento1 = fitz.open('python_books/Python - AWS.pdf')\n",
    "documento2 = fitz.open('python_books/Python  Data Science Cookbook.pdf')\n",
    "documento3 = fitz.open('python_books/Python - Finance.pdf')"
   ]
  },
  {
   "cell_type": "code",
   "execution_count": 101,
   "metadata": {},
   "outputs": [
    {
     "name": "stdout",
     "output_type": "stream",
     "text": [
      "DOCUMENTO 1\n",
      "Número de páginas:  1 \n",
      "\n",
      "Metados: \n",
      " {'format': 'PDF 1.3', 'title': '', 'author': '', 'subject': '', 'keywords': '', 'creator': 'Adobe InDesign CS6 (Windows)', 'producer': 'macOS Version 11.2.1 (Build 20D74) Quartz PDFContext', 'creationDate': \"D:20210225223227Z00'00'\", 'modDate': \"D:20210225223227Z00'00'\", 'trapped': '', 'encryption': None}\n"
     ]
    }
   ],
   "source": [
    "print(\"DOCUMENTO 1\")\n",
    "print(\"Número de páginas: \", documento1.pageCount, \"\\n\")\n",
    "print(\"Metados: \\n\", documento1.metadata)"
   ]
  },
  {
   "cell_type": "code",
   "execution_count": 102,
   "metadata": {
    "scrolled": true
   },
   "outputs": [
    {
     "name": "stdout",
     "output_type": "stream",
     "text": [
      "[ vii ]\n",
      "Preface\n",
      "With an increasing interest in leveraging cloud infrastructure around the world, the \n",
      "AWS cloud from Amazon offers a cutting-edge platform for architecting, building, \n",
      "and deploying web-scale cloud applications through a user-friendly interface. The \n",
      "variety of features available within AWS can reduce overall infrastructure costs and \n",
      "accelerate the development process for both large enterprises and start-ups alike.\n",
      "Learning AWS covers basic, intermediate, and advanced features and concepts  \n",
      "as they relate to designing, developing, and deploying scalable, highly available,  \n",
      "and secure applications on the AWS platform. By sequentially working through  \n",
      "the steps in each chapter, you will quickly master the features of AWS to create an \n",
      "enterprise-grade cloud application. We use a three-tiered services-oriented sample \n",
      "application for extensive hands-on exercises.\n",
      "This book will not only teach you about the AWS components, but you will gain \n",
      "valuable information about key concepts such as multi-tenancy, auto scaling, \n",
      "planning, implementing application development environments, addressing \n",
      "application security concerns, and so on. You will also learn how these concepts \n",
      "relate to cost effective architectural decisions while designing scalable, highly \n",
      "available, and secure AWS cloud applications.\n",
      "A step-by-step approach to cloud application design and implementation is explained \n",
      "in a conversational and easy-to-follow style. Each topic is explained sequentially in \n",
      "the process of creating an AWS cloud application. Detailed explanations of the basic \n",
      "and advanced features of AWS that address the needs of readers with a wide range \n",
      "of real-world experiences are also included. Expert programmers and architects will \n",
      "appreciate the focus on the practice rather than the theory.\n",
      "\n"
     ]
    }
   ],
   "source": [
    "pagina = documento1.loadPage(0)\n",
    "texto1 = pagina.getText(\"text\")\n",
    "print(texto1)"
   ]
  },
  {
   "cell_type": "code",
   "execution_count": 103,
   "metadata": {},
   "outputs": [],
   "source": [
    "palabras1=texto1.split()"
   ]
  },
  {
   "cell_type": "code",
   "execution_count": 104,
   "metadata": {},
   "outputs": [
    {
     "name": "stdout",
     "output_type": "stream",
     "text": [
      "DOCUMENTO 2\n",
      "Número de páginas:  1 \n",
      "\n",
      "Metados: \n",
      " {'format': 'PDF 1.3', 'title': '', 'author': '', 'subject': '', 'keywords': '', 'creator': 'Adobe InDesign CS6 (Windows)', 'producer': 'macOS Version 11.2.1 (Build 20D74) Quartz PDFContext', 'creationDate': \"D:20210225223227Z00'00'\", 'modDate': \"D:20210225223227Z00'00'\", 'trapped': '', 'encryption': None}\n"
     ]
    }
   ],
   "source": [
    "print(\"DOCUMENTO 2\")\n",
    "print(\"Número de páginas: \", documento2.pageCount, \"\\n\")\n",
    "print(\"Metados: \\n\", documento1.metadata)"
   ]
  },
  {
   "cell_type": "code",
   "execution_count": 105,
   "metadata": {},
   "outputs": [
    {
     "name": "stdout",
     "output_type": "stream",
     "text": [
      "Preface\n",
      "Today,\twe\tlive\tin\ta\tworld\tof\tconnected\tthings\twhere\ttons\tof\tdata\tis\tgenerated\tand\tit\tis\n",
      "humanly\timpossible\tto\tanalyze\tall\tthe\tincoming\tdata\tand\tmake\tdecisions.\tHuman\n",
      "decisions\tare\tincreasingly\treplaced\tby\tdecisions\tmade\tby\tcomputers.\tThanks\tto\tthe\tfield\n",
      "of\tdata\tscience.\tData\tscience\thas\tpenetrated\tdeeply\tin\tour\tconnected\tworld\tand\tthere\tis\ta\n",
      "growing\tdemand\tin\tthe\tmarket\tfor\tpeople\twho\tnot\tonly\tunderstand\tdata\tscience\n",
      "algorithms\tthoroughly,\tbut\tare\talso\tcapable\tof\tprogramming\tthese\talgorithms.\tData\n",
      "science\tis\ta\tfield\tthat\tis\tat\tthe\tintersection\tof\tmany\tfields,\tincluding\tdata\tmining,\tmachine\n",
      "learning,\tand\tstatistics,\tto\tname\ta\tfew.\tThis\tputs\tan\timmense\tburden\ton\tall\tlevels\tof\tdata\n",
      "scientists;\tfrom\tthe\tone\twho\tis\taspiring\tto\tbecome\ta\tdata\tscientist\tand\tthose\twho\tare\n",
      "currently\tpractitioners\tin\tthis\tfield.\tTreating\tthese\talgorithms\tas\ta\tblack\tbox\tand\tusing\n",
      "them\tin\tdecision-making\tsystems\twill\tlead\tto\tcounterproductive\tresults.\tWith\ttons\tof\n",
      "algorithms\tand\tinnumerable\tproblems\tout\tthere,\tit\trequires\ta\tgood\tgrasp\tof\tthe\tunderlying\n",
      "algorithms\tin\torder\tto\tchoose\tthe\tbest\tone\tfor\tany\tgiven\tproblem.\n",
      "Python\tas\ta\tprogramming\tlanguage\thas\tevolved\tover\tthe\tyears\tand\ttoday,\tit\tis\tthe\tnumber\n",
      "one\tchoice\tfor\ta\tdata\tscientist.\tIts\tability\tto\tact\tas\ta\tscripting\tlanguage\tfor\tquick\tprototype\n",
      "building\tand\tits\tsophisticated\tlanguage\tconstructs\tfor\tfull-fledged\tsoftware\tdevelopment\n",
      "combined\twith\tits\tfantastic\tlibrary\tsupport\tfor\tnumeric\tcomputations\thas\tled\tto\tits\tcurrent\n",
      "popularity\tamong\tdata\tscientists\tand\tthe\tgeneral\tscientific\tprogramming\tcommunity.\tNot\n",
      "just\tthat,\tPython\tis\talso\tpopular\tamong\tweb\tdevelopers;\tthanks\tto\tframeworks\tsuch\tas\n",
      "Django\tand\tFlask.\n",
      "This\tbook\thas\tbeen\tcarefully\twritten\tto\tcater\tto\tthe\tneeds\tof\ta\tdiverse\trange\tof\tdata\n",
      "scientists—starting\tfrom\tnovice\tdata\tscientists\tto\texperienced\tones—through\tcarefully\n",
      "crafted\trecipes,\twhich\ttouch\tupon\tthe\tdifferent\taspects\tof\tdata\tscience,\tincluding\tdata\n",
      "exploration,\tdata\tanalysis\tand\tmining,\tmachine\tlearning,\tand\tlarge\tscale\tmachine\tlearning.\n",
      "Each\tchapter\thas\tbeen\tcarefully\tcrafted\twith\trecipes\texploring\tthese\taspects.\tSufficient\n",
      "math\thas\tbeen\tprovided\tfor\tthe\treaders\tto\tunderstand\tthe\tfunctioning\tof\tthe\talgorithms\tin\n",
      "depth.\tWherever\tnecessary,\tenough\treferences\tare\tprovided\tfor\tthe\tcurious\treaders.\tThe\n",
      "recipes\tare\twritten\tin\tsuch\ta\tway\tthat\tthey\tare\teasy\tto\tfollow\tand\tunderstand.\n",
      "This\tbook\tbrings\tthe\tart\tof\tdata\tscience\twith\tpower\tPython\tprogramming\tto\tthe\treaders\n",
      "and\thelps\tthem\tmaster\tthe\tconcepts\tof\tdata\tscience.\tKnowledge\tof\tPython\tis\tnot\n",
      "mandatory\tto\tfollow\tthis\tbook.\tNon-Python\tprogrammers\tcan\trefer\tto\tthe\tfirst\tchapter,\n",
      "which\tintroduces\tthe\tPython\tdata\tstructures\tand\tfunction\tprogramming\tconcepts.\n",
      "The\tearly\tchapters\tcover\tthe\tbasics\tof\tdata\tscience\tand\tthe\tlater\tchapters\tare\tdedicated\tto\n",
      "advanced\tdata\tscience\talgorithms.\tState-of-the-art\talgorithms\tthat\tare\tcurrently\tused\tin\n",
      "practice\tby\tleading\tdata\tscientists\tacross\tindustries\tincluding\tthe\tensemble\tmethods,\n",
      "random\tforest,\tregression\twith\tregularization,\tand\tothers\tare\tcovered\tin\tdetail.\tSome\tof\n",
      "the\talgorithms\tthat\tare\tpopular\tin\tacademia\tand\tstill\tnot\twidely\tintroduced\tto\tthe\n",
      "mainstream\tsuch\tas\trotational\tforest\tare\tcovered\tin\tdetail.\n",
      "With\ta\tlot\tof\tdo-it-yourself\tbooks\ton\tdata\tscience\ttoday\tin\tthe\tmarket,\twe\tfeel\tthat\tthere\tis\n",
      "a\tgap\tin\tterms\tof\tcovering\tthe\tright\tmix\tof\tmath\tphilosophy\tbehind\tthe\tdata\tscience\n",
      "\n"
     ]
    }
   ],
   "source": [
    "pagina = documento2.loadPage(0)\n",
    "texto2 = pagina.getText(\"text\")\n",
    "print(texto2)"
   ]
  },
  {
   "cell_type": "code",
   "execution_count": 106,
   "metadata": {},
   "outputs": [],
   "source": [
    "palabras2=texto2.split()"
   ]
  },
  {
   "cell_type": "code",
   "execution_count": 107,
   "metadata": {},
   "outputs": [
    {
     "name": "stdout",
     "output_type": "stream",
     "text": [
      "DOCUMENTO 3\n",
      "Número de páginas:  1 \n",
      "\n",
      "Metados: \n",
      " {'format': 'PDF 1.3', 'title': '', 'author': '', 'subject': '', 'keywords': '', 'creator': 'Adobe InDesign CS6 (Windows)', 'producer': 'macOS Version 11.2.1 (Build 20D74) Quartz PDFContext', 'creationDate': \"D:20210225223227Z00'00'\", 'modDate': \"D:20210225223227Z00'00'\", 'trapped': '', 'encryption': None}\n"
     ]
    }
   ],
   "source": [
    "print(\"DOCUMENTO 3\")\n",
    "print(\"Número de páginas: \", documento3.pageCount, \"\\n\")\n",
    "print(\"Metados: \\n\", documento1.metadata)"
   ]
  },
  {
   "cell_type": "code",
   "execution_count": 108,
   "metadata": {},
   "outputs": [
    {
     "name": "stdout",
     "output_type": "stream",
     "text": [
      "Preface\n",
      "It is our firm belief that an ambitious student major in finance should learn at least \n",
      "one computer language. The basic reason is that we have entered the Big Data era. \n",
      "In finance, we have a huge amount of data, and most of it is publically available free \n",
      "of charge. To use such rich sources of data efficiently, we need a tool. Among many \n",
      "potential candidates, Python is one of the best choices.\n",
      "Why Python?\n",
      "There are various reasons that Python should be used. Firstly, Python is free in terms \n",
      "of license. Python is available for all major operating systems, such as Windows, \n",
      "Linux/Unix, OS/2, Mac, and Amiga, among others. Being free has many benefits. \n",
      "When students graduate, they could apply what they have learned wherever they \n",
      "go. This is true for the financial community as well. In contrast, this is not true for \n",
      "SAS and MATLAB. Secondly, Python is powerful, flexible, and easy to learn. It is \n",
      "capable of solving almost all our financial and economic estimations. Thirdly, we \n",
      "could apply Python to Big Data. Dasgupta (2013) argues that R and Python are two \n",
      "of the most popular open source programming languages for data analysis. Fourthly, \n",
      "there are many useful modules in Python. Each model is developed for a special \n",
      "purpose. In this book, we focus on NumPy, SciPy, Matplotlib, Statsmodels, and \n",
      "Pandas modules.\n",
      "\n"
     ]
    }
   ],
   "source": [
    "pagina = documento3.loadPage(0)\n",
    "texto3 = pagina.getText(\"text\")\n",
    "print(texto3)"
   ]
  },
  {
   "cell_type": "code",
   "execution_count": 109,
   "metadata": {},
   "outputs": [],
   "source": [
    "palabras3=texto3.split()"
   ]
  },
  {
   "cell_type": "markdown",
   "metadata": {},
   "source": [
    "## 3. Contar cantidad de palabras"
   ]
  },
  {
   "cell_type": "code",
   "execution_count": 110,
   "metadata": {},
   "outputs": [],
   "source": [
    "wordsInText1=len(palabras1)"
   ]
  },
  {
   "cell_type": "code",
   "execution_count": 111,
   "metadata": {},
   "outputs": [],
   "source": [
    "wordsInText2=len(palabras2)"
   ]
  },
  {
   "cell_type": "code",
   "execution_count": 112,
   "metadata": {},
   "outputs": [],
   "source": [
    "wordsInText3=len(palabras3)"
   ]
  },
  {
   "cell_type": "code",
   "execution_count": 113,
   "metadata": {},
   "outputs": [],
   "source": [
    "if wordsInText1>wordsInText2:\n",
    "    cantidad=wordsInText1\n",
    "    \n",
    "elif wordsInText2>wordsInText3:\n",
    "    cantidad=wordsInText2\n",
    "    \n",
    "else:\n",
    "    cantidad=wordsInText3"
   ]
  },
  {
   "cell_type": "code",
   "execution_count": 114,
   "metadata": {},
   "outputs": [
    {
     "name": "stdout",
     "output_type": "stream",
     "text": [
      "El texto Python  Data Science Cookbook.pdf, tiene la mayor cantidad de palabras con:  535 palabras\n"
     ]
    }
   ],
   "source": [
    "if cantidad==wordsInText1:\n",
    "    print(\"El texto Python - AWS.pdf, tiene la mayor cantidad de palabras con: \", str(cantidad), \"palabras\")\n",
    "\n",
    "elif cantidad==wordsInText2:\n",
    "    print(\"El texto Python  Data Science Cookbook.pdf, tiene la mayor cantidad de palabras con: \", str(cantidad), \"palabras\")\n",
    "\n",
    "else:\n",
    "    print(\"El texto Python - Finance.pdf, tiene la mayor cantidad de palabras con: \", str(cantidad), \"palabras\")"
   ]
  }
 ],
 "metadata": {
  "kernelspec": {
   "display_name": "Python 3",
   "language": "python",
   "name": "python3"
  },
  "language_info": {
   "codemirror_mode": {
    "name": "ipython",
    "version": 3
   },
   "file_extension": ".py",
   "mimetype": "text/x-python",
   "name": "python",
   "nbconvert_exporter": "python",
   "pygments_lexer": "ipython3",
   "version": "3.8.5"
  }
 },
 "nbformat": 4,
 "nbformat_minor": 4
}
